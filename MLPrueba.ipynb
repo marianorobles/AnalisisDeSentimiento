{
 "cells": [
  {
   "cell_type": "code",
   "execution_count": 1,
   "id": "17f7bbe4",
   "metadata": {},
   "outputs": [
    {
     "name": "stderr",
     "output_type": "stream",
     "text": [
      "2022-11-07 22:23:45.583628: I tensorflow/core/platform/cpu_feature_guard.cc:193] This TensorFlow binary is optimized with oneAPI Deep Neural Network Library (oneDNN) to use the following CPU instructions in performance-critical operations:  AVX2 FMA\n",
      "To enable them in other operations, rebuild TensorFlow with the appropriate compiler flags.\n",
      "2022-11-07 22:23:45.792907: W tensorflow/stream_executor/platform/default/dso_loader.cc:64] Could not load dynamic library 'libcudart.so.11.0'; dlerror: libcudart.so.11.0: cannot open shared object file: No such file or directory\n",
      "2022-11-07 22:23:45.792932: I tensorflow/stream_executor/cuda/cudart_stub.cc:29] Ignore above cudart dlerror if you do not have a GPU set up on your machine.\n",
      "2022-11-07 22:23:45.840436: E tensorflow/stream_executor/cuda/cuda_blas.cc:2981] Unable to register cuBLAS factory: Attempting to register factory for plugin cuBLAS when one has already been registered\n",
      "2022-11-07 22:23:47.052019: W tensorflow/stream_executor/platform/default/dso_loader.cc:64] Could not load dynamic library 'libnvinfer.so.7'; dlerror: libnvinfer.so.7: cannot open shared object file: No such file or directory\n",
      "2022-11-07 22:23:47.052206: W tensorflow/stream_executor/platform/default/dso_loader.cc:64] Could not load dynamic library 'libnvinfer_plugin.so.7'; dlerror: libnvinfer_plugin.so.7: cannot open shared object file: No such file or directory\n",
      "2022-11-07 22:23:47.052229: W tensorflow/compiler/tf2tensorrt/utils/py_utils.cc:38] TF-TRT Warning: Cannot dlopen some TensorRT libraries. If you would like to use Nvidia GPU with TensorRT, please make sure the missing libraries mentioned above are installed properly.\n",
      "2022-11-07 22:23:48.019354: W tensorflow/stream_executor/platform/default/dso_loader.cc:64] Could not load dynamic library 'libcuda.so.1'; dlerror: libcuda.so.1: cannot open shared object file: No such file or directory\n",
      "2022-11-07 22:23:48.019392: W tensorflow/stream_executor/cuda/cuda_driver.cc:263] failed call to cuInit: UNKNOWN ERROR (303)\n",
      "2022-11-07 22:23:48.019425: I tensorflow/stream_executor/cuda/cuda_diagnostics.cc:156] kernel driver does not appear to be running on this host (mariano-Lenovo-IdeaPad-S145-14IKB): /proc/driver/nvidia/version does not exist\n"
     ]
    }
   ],
   "source": [
    "from nltk.corpus import twitter_samples\n",
    "import nltk\n",
    "from nltk.tag import pos_tag\n",
    "from nltk.stem.wordnet import WordNetLemmatizer\n",
    "import pandas as pd\n",
    "from nltk.tokenize import TweetTokenizer\n",
    "from nltk import SnowballStemmer\n",
    "spanishstemmer=SnowballStemmer('spanish')\n",
    "from nltk import classify\n",
    "from nltk import NaiveBayesClassifier\n",
    "from sklearn.model_selection import train_test_split\n",
    "import numpy as np\n",
    "import spacy"
   ]
  },
  {
   "cell_type": "code",
   "execution_count": 2,
   "id": "a864ffc5",
   "metadata": {},
   "outputs": [],
   "source": [
    "df=pd.read_csv('final.csv')\n",
    "df.columns=['mensaje','sentimiento']"
   ]
  },
  {
   "cell_type": "code",
   "execution_count": 3,
   "id": "00807cf3",
   "metadata": {},
   "outputs": [],
   "source": [
    "df=df.drop(df[df['sentimiento']=='sentimiento'].index)\n",
    "df.to_csv('final2.csv',index=False)"
   ]
  },
  {
   "cell_type": "code",
   "execution_count": 4,
   "id": "e5c3e791",
   "metadata": {},
   "outputs": [
    {
     "data": {
      "text/html": [
       "<div>\n",
       "<style scoped>\n",
       "    .dataframe tbody tr th:only-of-type {\n",
       "        vertical-align: middle;\n",
       "    }\n",
       "\n",
       "    .dataframe tbody tr th {\n",
       "        vertical-align: top;\n",
       "    }\n",
       "\n",
       "    .dataframe thead th {\n",
       "        text-align: right;\n",
       "    }\n",
       "</style>\n",
       "<table border=\"1\" class=\"dataframe\">\n",
       "  <thead>\n",
       "    <tr style=\"text-align: right;\">\n",
       "      <th></th>\n",
       "      <th>mensaje</th>\n",
       "      <th>sentimiento</th>\n",
       "    </tr>\n",
       "  </thead>\n",
       "  <tbody>\n",
       "    <tr>\n",
       "      <th>6</th>\n",
       "      <td>Alguien anoto el grupo del profe?\\n</td>\n",
       "      <td>0</td>\n",
       "    </tr>\n",
       "    <tr>\n",
       "      <th>9</th>\n",
       "      <td>Va gracias\\n</td>\n",
       "      <td>1</td>\n",
       "    </tr>\n",
       "    <tr>\n",
       "      <th>11</th>\n",
       "      <td>Oigan alguien se acuerda como se llamaba el p...</td>\n",
       "      <td>0</td>\n",
       "    </tr>\n",
       "    <tr>\n",
       "      <th>12</th>\n",
       "      <td>O en qué libro lo veíamos?\\n</td>\n",
       "      <td>0</td>\n",
       "    </tr>\n",
       "    <tr>\n",
       "      <th>15</th>\n",
       "      <td>de la pagina 52\\n</td>\n",
       "      <td>0</td>\n",
       "    </tr>\n",
       "    <tr>\n",
       "      <th>...</th>\n",
       "      <td>...</td>\n",
       "      <td>...</td>\n",
       "    </tr>\n",
       "    <tr>\n",
       "      <th>2663</th>\n",
       "      <td>jajajajajajajajajajjaj\\n</td>\n",
       "      <td>1</td>\n",
       "    </tr>\n",
       "    <tr>\n",
       "      <th>2664</th>\n",
       "      <td>puto gabi\\n</td>\n",
       "      <td>-1</td>\n",
       "    </tr>\n",
       "    <tr>\n",
       "      <th>2665</th>\n",
       "      <td>Oigan, sí lo mandó\\n</td>\n",
       "      <td>0</td>\n",
       "    </tr>\n",
       "    <tr>\n",
       "      <th>2666</th>\n",
       "      <td>El 12 de mayo\\n</td>\n",
       "      <td>0</td>\n",
       "    </tr>\n",
       "    <tr>\n",
       "      <th>2667</th>\n",
       "      <td>No digas mamadas\\n</td>\n",
       "      <td>-1</td>\n",
       "    </tr>\n",
       "  </tbody>\n",
       "</table>\n",
       "<p>2047 rows × 2 columns</p>\n",
       "</div>"
      ],
      "text/plain": [
       "                                                mensaje  sentimiento\n",
       "6                   Alguien anoto el grupo del profe?\\n            0\n",
       "9                                          Va gracias\\n            1\n",
       "11     Oigan alguien se acuerda como se llamaba el p...            0\n",
       "12                         O en qué libro lo veíamos?\\n            0\n",
       "15                                    de la pagina 52\\n            0\n",
       "...                                                 ...          ...\n",
       "2663                           jajajajajajajajajajjaj\\n            1\n",
       "2664                                        puto gabi\\n           -1\n",
       "2665                               Oigan, sí lo mandó\\n            0\n",
       "2666                                    El 12 de mayo\\n            0\n",
       "2667                                 No digas mamadas\\n           -1\n",
       "\n",
       "[2047 rows x 2 columns]"
      ]
     },
     "execution_count": 4,
     "metadata": {},
     "output_type": "execute_result"
    }
   ],
   "source": [
    "df=pd.read_csv('final2.csv')\n",
    "df.columns=['mensaje','sentimiento']\n",
    "df=df.drop(df[df['sentimiento']<-1].index)\n",
    "df"
   ]
  },
  {
   "cell_type": "code",
   "execution_count": 5,
   "id": "a1feba4e",
   "metadata": {},
   "outputs": [],
   "source": [
    "import nltk\n",
    "from nltk import SnowballStemmer\n",
    "spanishstemmer=SnowballStemmer('spanish')\n",
    "#stems = [spanishstemmer.stem(token) for token in tokens]"
   ]
  },
  {
   "cell_type": "code",
   "execution_count": 6,
   "id": "4d600cc0",
   "metadata": {},
   "outputs": [],
   "source": [
    "import spacy\n",
    "nlp = spacy.load('es_core_news_sm')\n",
    "def normalize(text):\n",
    "    doc = nlp(text)\n",
    "    words = [t.orth_ for t in doc if not t.is_punct | t.is_stop]\n",
    "    lexical_tokens = [t.lower() for t in words if len(t) > 2 and     \n",
    "    t.isalpha()]\n",
    "    lexical_tokens=[spanishstemmer.stem(token) for token in lexical_tokens]\n",
    "    return lexical_tokens"
   ]
  },
  {
   "cell_type": "code",
   "execution_count": 7,
   "id": "deeac7d2",
   "metadata": {},
   "outputs": [],
   "source": [
    "df['mensaje']=df['mensaje'].apply(normalize)"
   ]
  },
  {
   "cell_type": "code",
   "execution_count": 8,
   "id": "e9a5ca4e",
   "metadata": {},
   "outputs": [],
   "source": [
    "df=df.drop(df[df.mensaje.apply(len)==0].index)"
   ]
  },
  {
   "cell_type": "code",
   "execution_count": 9,
   "id": "13e10865",
   "metadata": {},
   "outputs": [],
   "source": [
    "def formato(lista):\n",
    "    temp=[[x,True] for x in lista]\n",
    "    return dict(temp)"
   ]
  },
  {
   "cell_type": "code",
   "execution_count": 10,
   "id": "a9e2f45d",
   "metadata": {},
   "outputs": [],
   "source": [
    "df.mensaje=df.mensaje.apply(formato)"
   ]
  },
  {
   "cell_type": "code",
   "execution_count": 11,
   "id": "aa123f75",
   "metadata": {},
   "outputs": [
    {
     "name": "stdout",
     "output_type": "stream",
     "text": [
      "175\n",
      "(175, 2)\n",
      "(175, 2)\n",
      "(175, 2)\n"
     ]
    },
    {
     "data": {
      "text/plain": [
       "(525, 2)"
      ]
     },
     "execution_count": 11,
     "metadata": {},
     "output_type": "execute_result"
    }
   ],
   "source": [
    "lista=[]\n",
    "sentimientos=df.sentimiento.unique()\n",
    "minimo=len(df)\n",
    "for valor in sentimientos:\n",
    "    longitud=len(df[df['sentimiento']==valor])\n",
    "    if longitud<minimo:\n",
    "        minimo=longitud   \n",
    "print(minimo)\n",
    "for valor in sentimientos:\n",
    "    lista.append(df[df['sentimiento']==valor].iloc[0:minimo])\n",
    "    print(df[df['sentimiento']==valor].iloc[0:minimo].shape)\n",
    "df=pd.concat(lista)\n",
    "df.shape"
   ]
  },
  {
   "cell_type": "code",
   "execution_count": 12,
   "id": "77e734e6",
   "metadata": {},
   "outputs": [],
   "source": [
    "X=df.mensaje\n",
    "y=df.sentimiento"
   ]
  },
  {
   "cell_type": "code",
   "execution_count": 13,
   "id": "0adc997f",
   "metadata": {},
   "outputs": [],
   "source": [
    "X_train, X_test, y_train, y_test = train_test_split(X, y, test_size=0.2, random_state=42)"
   ]
  },
  {
   "cell_type": "code",
   "execution_count": 14,
   "id": "e5b1c76f",
   "metadata": {},
   "outputs": [],
   "source": [
    "classifier = NaiveBayesClassifier.train(list(zip(X_train,y_train)))"
   ]
  },
  {
   "cell_type": "code",
   "execution_count": 15,
   "id": "99d701eb",
   "metadata": {},
   "outputs": [
    {
     "name": "stdout",
     "output_type": "stream",
     "text": [
      "Accuracy is: 0.6\n"
     ]
    }
   ],
   "source": [
    "print(\"Accuracy is:\", classify.accuracy(classifier, list(zip(X_test,y_test))))"
   ]
  },
  {
   "cell_type": "code",
   "execution_count": 16,
   "id": "3406aa42",
   "metadata": {},
   "outputs": [
    {
     "name": "stdout",
     "output_type": "stream",
     "text": [
      "Accuracy is: 0.9023809523809524\n"
     ]
    }
   ],
   "source": [
    "print(\"Accuracy is:\", classify.accuracy(classifier, list(zip(X_train,y_train))))"
   ]
  },
  {
   "cell_type": "code",
   "execution_count": 17,
   "id": "dc8048d3",
   "metadata": {},
   "outputs": [
    {
     "name": "stdout",
     "output_type": "stream",
     "text": [
      "pablito\n",
      "-1\n"
     ]
    }
   ],
   "source": [
    "cadena= input()\n",
    "cadena=formato(normalize(cadena))\n",
    "\n",
    "print(classifier.classify(cadena))"
   ]
  },
  {
   "cell_type": "code",
   "execution_count": 32,
   "id": "23922d0a",
   "metadata": {},
   "outputs": [
    {
     "name": "stdout",
     "output_type": "stream",
     "text": [
      "diego\n",
      "1\n"
     ]
    }
   ],
   "source": [
    "cadena= input()\n",
    "cadena=formato(normalize(cadena))\n",
    "\n",
    "print(classifier.classify(cadena))"
   ]
  },
  {
   "cell_type": "code",
   "execution_count": 20,
   "id": "e2f3724c",
   "metadata": {},
   "outputs": [
    {
     "name": "stdout",
     "output_type": "stream",
     "text": [
      "jacobo\n",
      "1\n"
     ]
    }
   ],
   "source": [
    "cadena= input()\n",
    "cadena=formato(normalize(cadena))\n",
    "\n",
    "print(classifier.classify(cadena))"
   ]
  },
  {
   "cell_type": "code",
   "execution_count": 21,
   "id": "99876535",
   "metadata": {},
   "outputs": [
    {
     "data": {
      "text/html": [
       "<div>\n",
       "<style scoped>\n",
       "    .dataframe tbody tr th:only-of-type {\n",
       "        vertical-align: middle;\n",
       "    }\n",
       "\n",
       "    .dataframe tbody tr th {\n",
       "        vertical-align: top;\n",
       "    }\n",
       "\n",
       "    .dataframe thead th {\n",
       "        text-align: right;\n",
       "    }\n",
       "</style>\n",
       "<table border=\"1\" class=\"dataframe\">\n",
       "  <thead>\n",
       "    <tr style=\"text-align: right;\">\n",
       "      <th></th>\n",
       "      <th>mensaje</th>\n",
       "      <th>sentimiento</th>\n",
       "    </tr>\n",
       "  </thead>\n",
       "  <tbody>\n",
       "    <tr>\n",
       "      <th>6</th>\n",
       "      <td>{'algui': True, 'anot': True, 'grup': True, 'p...</td>\n",
       "      <td>0</td>\n",
       "    </tr>\n",
       "    <tr>\n",
       "      <th>11</th>\n",
       "      <td>{'oig': True, 'algui': True, 'acuerd': True, '...</td>\n",
       "      <td>0</td>\n",
       "    </tr>\n",
       "    <tr>\n",
       "      <th>12</th>\n",
       "      <td>{'libr': True, 'vei': True}</td>\n",
       "      <td>0</td>\n",
       "    </tr>\n",
       "    <tr>\n",
       "      <th>15</th>\n",
       "      <td>{'pagin': True}</td>\n",
       "      <td>0</td>\n",
       "    </tr>\n",
       "    <tr>\n",
       "      <th>16</th>\n",
       "      <td>{'rulet': True, 'balaz': True}</td>\n",
       "      <td>0</td>\n",
       "    </tr>\n",
       "    <tr>\n",
       "      <th>...</th>\n",
       "      <td>...</td>\n",
       "      <td>...</td>\n",
       "    </tr>\n",
       "    <tr>\n",
       "      <th>425</th>\n",
       "      <td>{'tien': True, 'probabil': True, 'encontr': Tr...</td>\n",
       "      <td>0</td>\n",
       "    </tr>\n",
       "    <tr>\n",
       "      <th>426</th>\n",
       "      <td>{'encuent': True}</td>\n",
       "      <td>0</td>\n",
       "    </tr>\n",
       "    <tr>\n",
       "      <th>427</th>\n",
       "      <td>{'variabl': True}</td>\n",
       "      <td>0</td>\n",
       "    </tr>\n",
       "    <tr>\n",
       "      <th>428</th>\n",
       "      <td>{'dic': True}</td>\n",
       "      <td>0</td>\n",
       "    </tr>\n",
       "    <tr>\n",
       "      <th>430</th>\n",
       "      <td>{'encontr': True, 'solucion': True}</td>\n",
       "      <td>0</td>\n",
       "    </tr>\n",
       "  </tbody>\n",
       "</table>\n",
       "<p>175 rows × 2 columns</p>\n",
       "</div>"
      ],
      "text/plain": [
       "                                               mensaje  sentimiento\n",
       "6    {'algui': True, 'anot': True, 'grup': True, 'p...            0\n",
       "11   {'oig': True, 'algui': True, 'acuerd': True, '...            0\n",
       "12                         {'libr': True, 'vei': True}            0\n",
       "15                                     {'pagin': True}            0\n",
       "16                      {'rulet': True, 'balaz': True}            0\n",
       "..                                                 ...          ...\n",
       "425  {'tien': True, 'probabil': True, 'encontr': Tr...            0\n",
       "426                                  {'encuent': True}            0\n",
       "427                                  {'variabl': True}            0\n",
       "428                                      {'dic': True}            0\n",
       "430                {'encontr': True, 'solucion': True}            0\n",
       "\n",
       "[175 rows x 2 columns]"
      ]
     },
     "execution_count": 21,
     "metadata": {},
     "output_type": "execute_result"
    }
   ],
   "source": [
    "df[df['sentimiento']==0]"
   ]
  },
  {
   "cell_type": "code",
   "execution_count": null,
   "id": "ac34e280",
   "metadata": {},
   "outputs": [],
   "source": []
  }
 ],
 "metadata": {
  "kernelspec": {
   "display_name": "Python 3 (ipykernel)",
   "language": "python",
   "name": "python3"
  },
  "language_info": {
   "codemirror_mode": {
    "name": "ipython",
    "version": 3
   },
   "file_extension": ".py",
   "mimetype": "text/x-python",
   "name": "python",
   "nbconvert_exporter": "python",
   "pygments_lexer": "ipython3",
   "version": "3.10.6"
  }
 },
 "nbformat": 4,
 "nbformat_minor": 5
}
